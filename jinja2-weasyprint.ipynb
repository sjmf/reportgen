{
 "cells": [
  {
   "cell_type": "code",
   "execution_count": 3,
   "metadata": {
    "collapsed": true
   },
   "outputs": [],
   "source": [
    "import weasyprint\n",
    "import jinja2\n",
    "import pandas as pd\n",
    "import numpy as np\n",
    "\n",
    "import IPython.core.display as ipd"
   ]
  },
  {
   "cell_type": "code",
   "execution_count": 4,
   "metadata": {
    "collapsed": true
   },
   "outputs": [],
   "source": [
    "template = '''\n",
    "<div class=\"container\">\n",
    "  <p>My string: {{my_string}}</p>\n",
    "  <p>Value from the list: {{my_list[3]}}</p>\n",
    "  <p>Loop through the list:</p>\n",
    "  <ul>\n",
    "    {% for n in my_list %}\n",
    "    <li>{{n}}</li>\n",
    "    {% endfor %}\n",
    "  </ul>\n",
    "</div>\n",
    "'''"
   ]
  },
  {
   "cell_type": "code",
   "execution_count": 5,
   "metadata": {
    "collapsed": false
   },
   "outputs": [
    {
     "data": {
      "text/html": [
       "\n",
       "<div class=\"container\">\n",
       "  <p>My string: Wheeeee!</p>\n",
       "  <p>Value from the list: 3</p>\n",
       "  <p>Loop through the list:</p>\n",
       "  <ul>\n",
       "    \n",
       "    <li>0</li>\n",
       "    \n",
       "    <li>1</li>\n",
       "    \n",
       "    <li>2</li>\n",
       "    \n",
       "    <li>3</li>\n",
       "    \n",
       "    <li>4</li>\n",
       "    \n",
       "    <li>5</li>\n",
       "    \n",
       "  </ul>\n",
       "</div>"
      ],
      "text/plain": [
       "<IPython.core.display.HTML object>"
      ]
     },
     "metadata": {},
     "output_type": "display_data"
    }
   ],
   "source": [
    "t = jinja2.Template(template)\n",
    "output =t.render(my_string=\"Wheeeee!\", my_list=[0,1,2,3,4,5])\n",
    "\n",
    "# just for ipython\n",
    "ipd.display(ipd.HTML(output))"
   ]
  },
  {
   "cell_type": "code",
   "execution_count": 6,
   "metadata": {
    "collapsed": false
   },
   "outputs": [],
   "source": [
    "import weasyprint as wp\n",
    "\n",
    "# write to PDF\n",
    "wp.HTML(string=output).write_pdf('weasyprint_output.pdf')\n"
   ]
  },
  {
   "cell_type": "code",
   "execution_count": 7,
   "metadata": {
    "collapsed": true
   },
   "outputs": [],
   "source": [
    "!open weasyprint_output.pdf"
   ]
  },
  {
   "cell_type": "code",
   "execution_count": null,
   "metadata": {
    "collapsed": true
   },
   "outputs": [],
   "source": []
  }
 ],
 "metadata": {
  "kernelspec": {
   "display_name": "Python 3",
   "language": "python",
   "name": "python3"
  },
  "language_info": {
   "codemirror_mode": {
    "name": "ipython",
    "version": 3
   },
   "file_extension": ".py",
   "mimetype": "text/x-python",
   "name": "python",
   "nbconvert_exporter": "python",
   "pygments_lexer": "ipython3",
   "version": "3.5.0"
  }
 },
 "nbformat": 4,
 "nbformat_minor": 0
}
