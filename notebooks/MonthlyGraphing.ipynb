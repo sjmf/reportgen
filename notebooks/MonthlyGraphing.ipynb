{
 "cells": [
  {
   "cell_type": "markdown",
   "metadata": {},
   "source": [
    "# Aggregation and Monthly plots"
   ]
  },
  {
   "cell_type": "markdown",
   "metadata": {},
   "source": [
    "NB: Aggregation could also be used to improve the performance of weekly plots"
   ]
  },
  {
   "cell_type": "code",
   "execution_count": 1,
   "metadata": {},
   "outputs": [
    {
     "ename": "ModuleNotFoundError",
     "evalue": "No module named 'pandas'",
     "output_type": "error",
     "traceback": [
      "\u001b[0;31m---------------------------------------------------------------------------\u001b[0m",
      "\u001b[0;31mModuleNotFoundError\u001b[0m                       Traceback (most recent call last)",
      "\u001b[0;32m<ipython-input-1-0ba5380cf5b1>\u001b[0m in \u001b[0;36m<module>\u001b[0;34m()\u001b[0m\n\u001b[1;32m      1\u001b[0m \u001b[0;32mimport\u001b[0m \u001b[0mlogging\u001b[0m\u001b[0;34m\u001b[0m\u001b[0m\n\u001b[1;32m      2\u001b[0m \u001b[0;32mimport\u001b[0m \u001b[0mtime\u001b[0m\u001b[0;34m\u001b[0m\u001b[0m\n\u001b[0;32m----> 3\u001b[0;31m \u001b[0;32mimport\u001b[0m \u001b[0mpandas\u001b[0m \u001b[0;32mas\u001b[0m \u001b[0mpd\u001b[0m\u001b[0;34m\u001b[0m\u001b[0m\n\u001b[0m\u001b[1;32m      4\u001b[0m \u001b[0;32mimport\u001b[0m \u001b[0mnumpy\u001b[0m \u001b[0;32mas\u001b[0m \u001b[0mnp\u001b[0m\u001b[0;34m\u001b[0m\u001b[0m\n\u001b[1;32m      5\u001b[0m \u001b[0;32mimport\u001b[0m \u001b[0mdatahandling\u001b[0m \u001b[0;32mas\u001b[0m \u001b[0mdh\u001b[0m\u001b[0;34m\u001b[0m\u001b[0m\n",
      "\u001b[0;31mModuleNotFoundError\u001b[0m: No module named 'pandas'"
     ]
    }
   ],
   "source": [
    "import logging\n",
    "import time\n",
    "import pandas as pd\n",
    "import numpy as np\n",
    "import datahandling as dh\n",
    "from report import *"
   ]
  },
  {
   "cell_type": "code",
   "execution_count": 2,
   "metadata": {},
   "outputs": [
    {
     "ename": "NameError",
     "evalue": "name 'set_mpl_params' is not defined",
     "output_type": "error",
     "traceback": [
      "\u001b[0;31m---------------------------------------------------------------------------\u001b[0m",
      "\u001b[0;31mNameError\u001b[0m                                 Traceback (most recent call last)",
      "\u001b[0;32m<ipython-input-2-ef039723d434>\u001b[0m in \u001b[0;36m<module>\u001b[0;34m()\u001b[0m\n\u001b[1;32m      1\u001b[0m \u001b[0mlogging\u001b[0m\u001b[0;34m.\u001b[0m\u001b[0mbasicConfig\u001b[0m\u001b[0;34m(\u001b[0m\u001b[0mlevel\u001b[0m\u001b[0;34m=\u001b[0m\u001b[0mlogging\u001b[0m\u001b[0;34m.\u001b[0m\u001b[0mINFO\u001b[0m\u001b[0;34m)\u001b[0m\u001b[0;34m\u001b[0m\u001b[0m\n\u001b[1;32m      2\u001b[0m \u001b[0mlog\u001b[0m \u001b[0;34m=\u001b[0m \u001b[0mlogging\u001b[0m\u001b[0;34m.\u001b[0m\u001b[0mgetLogger\u001b[0m\u001b[0;34m(\u001b[0m\u001b[0m__name__\u001b[0m\u001b[0;34m)\u001b[0m\u001b[0;34m\u001b[0m\u001b[0m\n\u001b[0;32m----> 3\u001b[0;31m \u001b[0mset_mpl_params\u001b[0m\u001b[0;34m(\u001b[0m\u001b[0;34m)\u001b[0m\u001b[0;34m\u001b[0m\u001b[0m\n\u001b[0m",
      "\u001b[0;31mNameError\u001b[0m: name 'set_mpl_params' is not defined"
     ]
    }
   ],
   "source": [
    "logging.basicConfig(level=logging.INFO)\n",
    "log = logging.getLogger(__name__)\n",
    "set_mpl_params()"
   ]
  },
  {
   "cell_type": "code",
   "execution_count": 3,
   "metadata": {
    "collapsed": true
   },
   "outputs": [],
   "source": [
    "input_datafiles = ['/Users/sam/Downloads/BuildAX/Floor3.csv']"
   ]
  },
  {
   "cell_type": "code",
   "execution_count": 4,
   "metadata": {},
   "outputs": [
    {
     "name": "stderr",
     "output_type": "stream",
     "text": [
      "INFO:datahandling:Reading data from /Users/sam/Downloads/BuildAX/Floor3.csv\n",
      "INFO:datahandling:Detected MIME: text/csv\n",
      "INFO:report:Running final sort on merge...\n",
      "INFO:report:+ Data read in 3.00s\n"
     ]
    }
   ],
   "source": [
    "df, dfs, t_start, t_end = read_data(input_datafiles)"
   ]
  },
  {
   "cell_type": "code",
   "execution_count": 5,
   "metadata": {},
   "outputs": [
    {
     "name": "stderr",
     "output_type": "stream",
     "text": [
      "INFO:report: ID      | Packets \n",
      "INFO:report:=========|=========\n",
      "INFO:report:42CAE0CE | 147165\n",
      "INFO:report:42A91C18 | 158564\n",
      "INFO:report:42CA8185 | 57646\n",
      "INFO:report:4259DD00 | 38260\n",
      "INFO:report:42D8421B | 44686\n",
      "INFO:report:426D6758 | 50762\n",
      "INFO:report:426BBB67 | 107222\n",
      "INFO:report:429D6BDE | 4720\n",
      "INFO:report:422EA95A | 59847\n",
      "INFO:report:42F519EF | 2177\n",
      "INFO:report:425AE41F | 932\n"
     ]
    }
   ],
   "source": [
    "dfs = sensor_stats(dfs, 100)"
   ]
  },
  {
   "cell_type": "code",
   "execution_count": 6,
   "metadata": {},
   "outputs": [
    {
     "data": {
      "text/plain": [
       "(Timestamp('2015-05-15 14:51:56'), Timestamp('2016-07-06 14:31:31'))"
      ]
     },
     "execution_count": 6,
     "metadata": {},
     "output_type": "execute_result"
    }
   ],
   "source": [
    "t_start, t_end"
   ]
  },
  {
   "cell_type": "markdown",
   "metadata": {},
   "source": [
    "### Get week range"
   ]
  },
  {
   "cell_type": "code",
   "execution_count": 7,
   "metadata": {
    "scrolled": true
   },
   "outputs": [
    {
     "data": {
      "text/plain": [
       "55"
      ]
     },
     "execution_count": 7,
     "metadata": {},
     "output_type": "execute_result"
    }
   ],
   "source": [
    "weeks = get_week_range(df)\n",
    "len(weeks)"
   ]
  },
  {
   "cell_type": "markdown",
   "metadata": {},
   "source": [
    "### Get month range"
   ]
  },
  {
   "cell_type": "code",
   "execution_count": 8,
   "metadata": {},
   "outputs": [
    {
     "data": {
      "text/plain": [
       "[(Timestamp('2015-05-01 00:00:00'), Timestamp('2015-05-31 23:59:59')),\n",
       " (Timestamp('2015-06-01 00:00:00'), Timestamp('2015-06-30 23:59:59')),\n",
       " (Timestamp('2015-07-01 00:00:00'), Timestamp('2015-07-31 23:59:59')),\n",
       " (Timestamp('2015-08-01 00:00:00'), Timestamp('2015-08-31 23:59:59')),\n",
       " (Timestamp('2015-09-01 00:00:00'), Timestamp('2015-09-30 23:59:59')),\n",
       " (Timestamp('2015-10-01 00:00:00'), Timestamp('2015-10-31 23:59:59')),\n",
       " (Timestamp('2015-11-01 00:00:00'), Timestamp('2015-11-30 23:59:59')),\n",
       " (Timestamp('2015-12-01 00:00:00'), Timestamp('2015-12-31 23:59:59')),\n",
       " (Timestamp('2016-01-01 00:00:00'), Timestamp('2016-01-31 23:59:59')),\n",
       " (Timestamp('2016-02-01 00:00:00'), Timestamp('2016-02-29 23:59:59')),\n",
       " (Timestamp('2016-03-01 00:00:00'), Timestamp('2016-03-31 23:59:59')),\n",
       " (Timestamp('2016-04-01 00:00:00'), Timestamp('2016-04-30 23:59:59')),\n",
       " (Timestamp('2016-05-01 00:00:00'), Timestamp('2016-05-31 23:59:59')),\n",
       " (Timestamp('2016-06-01 00:00:00'), Timestamp('2016-06-30 23:59:59')),\n",
       " (Timestamp('2016-07-01 00:00:00'), Timestamp('2016-07-31 23:59:59'))]"
      ]
     },
     "execution_count": 8,
     "metadata": {},
     "output_type": "execute_result"
    }
   ],
   "source": [
    "months = get_month_range(df)\n",
    "months"
   ]
  },
  {
   "cell_type": "markdown",
   "metadata": {},
   "source": [
    "### Check data"
   ]
  },
  {
   "cell_type": "code",
   "execution_count": 9,
   "metadata": {
    "scrolled": true
   },
   "outputs": [
    {
     "data": {
      "text/html": [
       "<div>\n",
       "<style>\n",
       "    .dataframe thead tr:only-child th {\n",
       "        text-align: right;\n",
       "    }\n",
       "\n",
       "    .dataframe thead th {\n",
       "        text-align: left;\n",
       "    }\n",
       "\n",
       "    .dataframe tbody tr th {\n",
       "        vertical-align: top;\n",
       "    }\n",
       "</style>\n",
       "<table border=\"1\" class=\"dataframe\">\n",
       "  <thead>\n",
       "    <tr style=\"text-align: right;\">\n",
       "      <th></th>\n",
       "      <th>Name</th>\n",
       "      <th>RSSI</th>\n",
       "      <th>Type</th>\n",
       "      <th>SequenceNo</th>\n",
       "      <th>TransmitPower</th>\n",
       "      <th>Battery</th>\n",
       "      <th>Humidity</th>\n",
       "      <th>Temp</th>\n",
       "      <th>Light</th>\n",
       "      <th>PIRCount</th>\n",
       "      <th>PIREnergy</th>\n",
       "      <th>Switch</th>\n",
       "      <th>Event</th>\n",
       "      <th>PIRDiff</th>\n",
       "    </tr>\n",
       "    <tr>\n",
       "      <th>DateTime</th>\n",
       "      <th></th>\n",
       "      <th></th>\n",
       "      <th></th>\n",
       "      <th></th>\n",
       "      <th></th>\n",
       "      <th></th>\n",
       "      <th></th>\n",
       "      <th></th>\n",
       "      <th></th>\n",
       "      <th></th>\n",
       "      <th></th>\n",
       "      <th></th>\n",
       "      <th></th>\n",
       "      <th></th>\n",
       "    </tr>\n",
       "  </thead>\n",
       "  <tbody>\n",
       "    <tr>\n",
       "      <th>2015-05-15 14:51:56</th>\n",
       "      <td>42CAE0CE</td>\n",
       "      <td>-34</td>\n",
       "      <td>2</td>\n",
       "      <td>40</td>\n",
       "      <td>20</td>\n",
       "      <td>3228</td>\n",
       "      <td>30.51</td>\n",
       "      <td>22.6</td>\n",
       "      <td>4</td>\n",
       "      <td>35</td>\n",
       "      <td>31744</td>\n",
       "      <td>1</td>\n",
       "      <td>NaN</td>\n",
       "      <td>NaN</td>\n",
       "    </tr>\n",
       "    <tr>\n",
       "      <th>2015-05-15 14:52:51</th>\n",
       "      <td>42CAE0CE</td>\n",
       "      <td>-29</td>\n",
       "      <td>2</td>\n",
       "      <td>41</td>\n",
       "      <td>20</td>\n",
       "      <td>3228</td>\n",
       "      <td>30.51</td>\n",
       "      <td>22.6</td>\n",
       "      <td>4</td>\n",
       "      <td>36</td>\n",
       "      <td>32720</td>\n",
       "      <td>1</td>\n",
       "      <td>NaN</td>\n",
       "      <td>NaN</td>\n",
       "    </tr>\n",
       "    <tr>\n",
       "      <th>2015-05-15 14:53:25</th>\n",
       "      <td>42CAE0CE</td>\n",
       "      <td>-28</td>\n",
       "      <td>1</td>\n",
       "      <td>42</td>\n",
       "      <td>20</td>\n",
       "      <td>3232</td>\n",
       "      <td>29.47</td>\n",
       "      <td>22.7</td>\n",
       "      <td>14</td>\n",
       "      <td>36</td>\n",
       "      <td>33474</td>\n",
       "      <td>1</td>\n",
       "      <td>NaN</td>\n",
       "      <td>4.431016</td>\n",
       "    </tr>\n",
       "    <tr>\n",
       "      <th>2015-05-15 14:55:08</th>\n",
       "      <td>42CAE0CE</td>\n",
       "      <td>-30</td>\n",
       "      <td>2</td>\n",
       "      <td>43</td>\n",
       "      <td>20</td>\n",
       "      <td>3232</td>\n",
       "      <td>29.47</td>\n",
       "      <td>22.7</td>\n",
       "      <td>14</td>\n",
       "      <td>37</td>\n",
       "      <td>34442</td>\n",
       "      <td>1</td>\n",
       "      <td>NaN</td>\n",
       "      <td>-12.778412</td>\n",
       "    </tr>\n",
       "    <tr>\n",
       "      <th>2015-05-15 14:58:24</th>\n",
       "      <td>42CAE0CE</td>\n",
       "      <td>-29</td>\n",
       "      <td>1</td>\n",
       "      <td>44</td>\n",
       "      <td>20</td>\n",
       "      <td>3230</td>\n",
       "      <td>29.17</td>\n",
       "      <td>22.7</td>\n",
       "      <td>3</td>\n",
       "      <td>37</td>\n",
       "      <td>36552</td>\n",
       "      <td>1</td>\n",
       "      <td>NaN</td>\n",
       "      <td>1.367248</td>\n",
       "    </tr>\n",
       "  </tbody>\n",
       "</table>\n",
       "</div>"
      ],
      "text/plain": [
       "                         Name  RSSI  Type  SequenceNo  TransmitPower  Battery  \\\n",
       "DateTime                                                                        \n",
       "2015-05-15 14:51:56  42CAE0CE   -34     2          40             20     3228   \n",
       "2015-05-15 14:52:51  42CAE0CE   -29     2          41             20     3228   \n",
       "2015-05-15 14:53:25  42CAE0CE   -28     1          42             20     3232   \n",
       "2015-05-15 14:55:08  42CAE0CE   -30     2          43             20     3232   \n",
       "2015-05-15 14:58:24  42CAE0CE   -29     1          44             20     3230   \n",
       "\n",
       "                     Humidity  Temp  Light  PIRCount  PIREnergy  Switch Event  \\\n",
       "DateTime                                                                        \n",
       "2015-05-15 14:51:56     30.51  22.6      4        35      31744       1   NaN   \n",
       "2015-05-15 14:52:51     30.51  22.6      4        36      32720       1   NaN   \n",
       "2015-05-15 14:53:25     29.47  22.7     14        36      33474       1   NaN   \n",
       "2015-05-15 14:55:08     29.47  22.7     14        37      34442       1   NaN   \n",
       "2015-05-15 14:58:24     29.17  22.7      3        37      36552       1   NaN   \n",
       "\n",
       "                       PIRDiff  \n",
       "DateTime                        \n",
       "2015-05-15 14:51:56        NaN  \n",
       "2015-05-15 14:52:51        NaN  \n",
       "2015-05-15 14:53:25   4.431016  \n",
       "2015-05-15 14:55:08 -12.778412  \n",
       "2015-05-15 14:58:24   1.367248  "
      ]
     },
     "execution_count": 9,
     "metadata": {},
     "output_type": "execute_result"
    }
   ],
   "source": [
    "dfs[list(dfs.keys())[0]][:5]"
   ]
  },
  {
   "cell_type": "code",
   "execution_count": 10,
   "metadata": {
    "collapsed": true
   },
   "outputs": [],
   "source": [
    "data = dfs[list(dfs.keys())[0]]"
   ]
  },
  {
   "cell_type": "markdown",
   "metadata": {},
   "source": [
    "## Single Column Aggregation"
   ]
  },
  {
   "cell_type": "code",
   "execution_count": 11,
   "metadata": {},
   "outputs": [
    {
     "data": {
      "text/html": [
       "<div>\n",
       "<style>\n",
       "    .dataframe thead tr:only-child th {\n",
       "        text-align: right;\n",
       "    }\n",
       "\n",
       "    .dataframe thead th {\n",
       "        text-align: left;\n",
       "    }\n",
       "\n",
       "    .dataframe tbody tr th {\n",
       "        vertical-align: top;\n",
       "    }\n",
       "</style>\n",
       "<table border=\"1\" class=\"dataframe\">\n",
       "  <thead>\n",
       "    <tr style=\"text-align: right;\">\n",
       "      <th></th>\n",
       "      <th>Temp</th>\n",
       "    </tr>\n",
       "    <tr>\n",
       "      <th>DateTime</th>\n",
       "      <th></th>\n",
       "    </tr>\n",
       "  </thead>\n",
       "  <tbody>\n",
       "    <tr>\n",
       "      <th>2015-05-15</th>\n",
       "      <td>19.294400</td>\n",
       "    </tr>\n",
       "    <tr>\n",
       "      <th>2015-05-16</th>\n",
       "      <td>17.905190</td>\n",
       "    </tr>\n",
       "    <tr>\n",
       "      <th>2015-05-17</th>\n",
       "      <td>17.570486</td>\n",
       "    </tr>\n",
       "    <tr>\n",
       "      <th>2015-05-18</th>\n",
       "      <td>17.275172</td>\n",
       "    </tr>\n",
       "    <tr>\n",
       "      <th>2015-05-19</th>\n",
       "      <td>16.178276</td>\n",
       "    </tr>\n",
       "  </tbody>\n",
       "</table>\n",
       "</div>"
      ],
      "text/plain": [
       "                 Temp\n",
       "DateTime             \n",
       "2015-05-15  19.294400\n",
       "2015-05-16  17.905190\n",
       "2015-05-17  17.570486\n",
       "2015-05-18  17.275172\n",
       "2015-05-19  16.178276"
      ]
     },
     "execution_count": 11,
     "metadata": {},
     "output_type": "execute_result"
    }
   ],
   "source": [
    "# Define the aggregation procedure outside of the groupby operation\n",
    "data.groupby(pd.TimeGrouper(freq='D'))['Temp'].agg(['mean']).rename(columns={'mean':'Temp'})[:5]"
   ]
  },
  {
   "cell_type": "markdown",
   "metadata": {},
   "source": [
    "## Multi-column aggregation"
   ]
  },
  {
   "cell_type": "code",
   "execution_count": 12,
   "metadata": {},
   "outputs": [
    {
     "data": {
      "text/html": [
       "<div>\n",
       "<style>\n",
       "    .dataframe thead tr:only-child th {\n",
       "        text-align: right;\n",
       "    }\n",
       "\n",
       "    .dataframe thead th {\n",
       "        text-align: left;\n",
       "    }\n",
       "\n",
       "    .dataframe tbody tr th {\n",
       "        vertical-align: top;\n",
       "    }\n",
       "</style>\n",
       "<table border=\"1\" class=\"dataframe\">\n",
       "  <thead>\n",
       "    <tr style=\"text-align: right;\">\n",
       "      <th></th>\n",
       "      <th>Temp</th>\n",
       "      <th>Humidity</th>\n",
       "      <th>Light</th>\n",
       "      <th>Battery</th>\n",
       "    </tr>\n",
       "    <tr>\n",
       "      <th>DateTime</th>\n",
       "      <th></th>\n",
       "      <th></th>\n",
       "      <th></th>\n",
       "      <th></th>\n",
       "    </tr>\n",
       "  </thead>\n",
       "  <tbody>\n",
       "    <tr>\n",
       "      <th>2015-05-15 12:00:00</th>\n",
       "      <td>19.294400</td>\n",
       "      <td>32.862000</td>\n",
       "      <td>46.224000</td>\n",
       "      <td>3225.0</td>\n",
       "    </tr>\n",
       "    <tr>\n",
       "      <th>2015-05-16 00:00:00</th>\n",
       "      <td>17.817931</td>\n",
       "      <td>37.176690</td>\n",
       "      <td>47.303448</td>\n",
       "      <td>3217.0</td>\n",
       "    </tr>\n",
       "    <tr>\n",
       "      <th>2015-05-16 12:00:00</th>\n",
       "      <td>17.993056</td>\n",
       "      <td>33.808611</td>\n",
       "      <td>186.451389</td>\n",
       "      <td>3216.0</td>\n",
       "    </tr>\n",
       "    <tr>\n",
       "      <th>2015-05-17 00:00:00</th>\n",
       "      <td>17.511806</td>\n",
       "      <td>33.878819</td>\n",
       "      <td>30.402778</td>\n",
       "      <td>3216.0</td>\n",
       "    </tr>\n",
       "    <tr>\n",
       "      <th>2015-05-17 12:00:00</th>\n",
       "      <td>17.629167</td>\n",
       "      <td>34.059444</td>\n",
       "      <td>152.590278</td>\n",
       "      <td>3216.0</td>\n",
       "    </tr>\n",
       "  </tbody>\n",
       "</table>\n",
       "</div>"
      ],
      "text/plain": [
       "                          Temp   Humidity       Light  Battery\n",
       "DateTime                                                      \n",
       "2015-05-15 12:00:00  19.294400  32.862000   46.224000   3225.0\n",
       "2015-05-16 00:00:00  17.817931  37.176690   47.303448   3217.0\n",
       "2015-05-16 12:00:00  17.993056  33.808611  186.451389   3216.0\n",
       "2015-05-17 00:00:00  17.511806  33.878819   30.402778   3216.0\n",
       "2015-05-17 12:00:00  17.629167  34.059444  152.590278   3216.0"
      ]
     },
     "execution_count": 12,
     "metadata": {},
     "output_type": "execute_result"
    }
   ],
   "source": [
    "aggregate={\n",
    "    'Temp': 'mean', \n",
    "    'Humidity':'mean',\n",
    "    'Light':'mean',\n",
    "    'Battery': 'min'\n",
    "}\n",
    "\n",
    "data.groupby(pd.TimeGrouper(freq='12h')) \\\n",
    "    .agg(aggregate)[:5]\n"
   ]
  },
  {
   "cell_type": "markdown",
   "metadata": {},
   "source": [
    "# Plotting aggregates"
   ]
  },
  {
   "cell_type": "code",
   "execution_count": 13,
   "metadata": {
    "collapsed": true
   },
   "outputs": [],
   "source": [
    "import mpl_toolkits.axisartist\n",
    "import matplotlib.pyplot as plt\n",
    "\n",
    "#\n",
    "# Namespace for colors\n",
    "def graph():\n",
    "    pass\n",
    "\n",
    "# Tableau20 colour scheme\n",
    "graph.colors = [\"#1f77b4\", \"#aec7e8\", \"#ff7f0e\", \"#ffbb78\", \"#2ca02c\", \"#98df8a\", \"#d62728\",\n",
    "                \"#ff9896\", \"#9467bd\", \"#c5b0d5\", \"#8c564b\", \"#c49c94\", \"#e377c2\", \"#f7b6d2\",\n",
    "                \"#7f7f7f\", \"#c7c7c7\", \"#bcbd22\", \"#dbdb8d\", \"#17becf\", \"#9edae5\"]"
   ]
  },
  {
   "cell_type": "code",
   "execution_count": 14,
   "metadata": {},
   "outputs": [
    {
     "data": {
      "text/plain": [
       "False"
      ]
     },
     "execution_count": 14,
     "metadata": {},
     "output_type": "execute_result"
    }
   ],
   "source": [
    "from pandas.tseries.offsets import MonthEnd, MonthBegin\n",
    "t_start + MonthEnd() > t_end + MonthBegin()"
   ]
  },
  {
   "cell_type": "code",
   "execution_count": 15,
   "metadata": {
    "collapsed": true
   },
   "outputs": [],
   "source": [
    "log.setLevel(logging.DEBUG)"
   ]
  },
  {
   "cell_type": "code",
   "execution_count": 55,
   "metadata": {},
   "outputs": [
    {
     "name": "stderr",
     "output_type": "stream",
     "text": [
      "INFO:__main__:Temp     - 2016-05-01 00:00:00 to 2016-05-31 23:59:59\n",
      "DEBUG:__main__:Graphing 05/02/16 May in cell 1 @1,0\n",
      "DEBUG:__main__:Graphing 05/09/16 May in cell 2 @2,0\n",
      "DEBUG:__main__:Graphing 05/16/16 May in cell 3 @3,0\n",
      "DEBUG:__main__:Graphing 05/23/16 May in cell 4 @4,0\n"
     ]
    },
    {
     "ename": "IndexError",
     "evalue": "list index out of range",
     "output_type": "error",
     "traceback": [
      "\u001b[0;31m---------------------------------------------------------------------------\u001b[0m",
      "\u001b[0;31mIndexError\u001b[0m                                Traceback (most recent call last)",
      "\u001b[0;32m<ipython-input-55-bd7c45758d1a>\u001b[0m in \u001b[0;36m<module>\u001b[0;34m()\u001b[0m\n\u001b[1;32m     52\u001b[0m     \u001b[0mrow\u001b[0m\u001b[0;34m,\u001b[0m \u001b[0mcol\u001b[0m \u001b[0;34m=\u001b[0m \u001b[0;34m(\u001b[0m\u001b[0mi\u001b[0m \u001b[0;34m//\u001b[0m \u001b[0mcols\u001b[0m\u001b[0;34m,\u001b[0m \u001b[0mi\u001b[0m \u001b[0;34m%\u001b[0m \u001b[0mcols\u001b[0m\u001b[0;34m)\u001b[0m\u001b[0;34m\u001b[0m\u001b[0m\n\u001b[1;32m     53\u001b[0m     \u001b[0;31m#log.debug(\"{},{}\".format(row,col))\u001b[0m\u001b[0;34m\u001b[0m\u001b[0;34m\u001b[0m\u001b[0m\n\u001b[0;32m---> 54\u001b[0;31m     \u001b[0max\u001b[0m \u001b[0;34m=\u001b[0m \u001b[0maxarr\u001b[0m\u001b[0;34m[\u001b[0m\u001b[0mrow\u001b[0m\u001b[0;34m]\u001b[0m\u001b[0;34m[\u001b[0m\u001b[0mcol\u001b[0m\u001b[0;34m]\u001b[0m\u001b[0;34m\u001b[0m\u001b[0m\n\u001b[0m\u001b[1;32m     55\u001b[0m \u001b[0;34m\u001b[0m\u001b[0m\n\u001b[1;32m     56\u001b[0m     \u001b[0;31m# Pandas Data\u001b[0m\u001b[0;34m\u001b[0m\u001b[0;34m\u001b[0m\u001b[0m\n",
      "\u001b[0;31mIndexError\u001b[0m: list index out of range"
     ]
    }
   ],
   "source": [
    "# Monthly graph\n",
    "import calendar\n",
    "from matplotlib.ticker import MaxNLocator\n",
    "from pandas.tseries.offsets import MonthEnd, MonthBegin\n",
    "\n",
    "mpl.rcParams['figure.figsize'] = (8, 12)  # (3,2)\n",
    "    \n",
    "# ARGS:\n",
    "# dfs (already defined)\n",
    "series = \"Temp\"\n",
    "y_label = \"Temperature ˚C\"\n",
    "t_start, t_end = months[12]\n",
    "cols=1\n",
    "legend_cols=2\n",
    "grid=True\n",
    "spline_alpha=0.1\n",
    "txt_alpha=0.6\n",
    "\n",
    "kwargs = {}\n",
    "colors = kwargs.pop('colors', graph.colors)\n",
    "spines = kwargs.pop('spines', {'top': True, 'bottom': True, 'left': True, 'right': True})\n",
    "\n",
    "\n",
    "cells = 5\n",
    "rows = cells // cols\n",
    "\n",
    "\n",
    "# Argument sanity check\n",
    "if t_start + MonthEnd() > t_end + MonthBegin():\n",
    "    raise ValueError(\"Date range passed is > 1 month: {0} to {1}\".format(t_start, t_end))\n",
    "\n",
    "\n",
    "# Eight subplots, returned as a 2-d array\n",
    "fig, axarr = plt.subplots(rows, cols, sharey=True)\n",
    "fig.subplots_adjust(hspace=0, wspace=0)\n",
    "fig.autofmt_xdate()\n",
    "\n",
    "# Reformat axarr for 1x8 or 8x1 plots\n",
    "if rows == 1:\n",
    "    axarr = [axarr,[]]\n",
    "if cols == 1:\n",
    "    axarr = [[ax] for ax in axarr]\n",
    "\n",
    "plt.gca().yaxis.set_major_locator(MaxNLocator(prune='both'))\n",
    "\n",
    "log.info(\"{0: <8} - {1} to {2}\".format(series, str(t_start), str(t_end)))\n",
    "\n",
    "# Start plotting at cell 1 (cell zero is legend)\n",
    "i = 1\n",
    "for week in pd.date_range(t_start, t_end, freq='W-MON', normalize=True, closed='left', label='left'):\n",
    "    start, end = (week, (week + pd.Timedelta('7 days')))\n",
    "    row, col = (i // cols, i % cols)\n",
    "    #log.debug(\"{},{}\".format(row,col))\n",
    "    ax = axarr[row][col]\n",
    "\n",
    "    # Pandas Data\n",
    "    x_data = [dfs[i].loc[start:end, ].index for i in dfs]\n",
    "    y_data = [dfs[i].loc[start:end, series].values for i in dfs]\n",
    "\n",
    "    log.debug(\"Graphing {0} in cell {1} @{2},{3}\".format(start.date().strftime('%D %b'), i, row, col))\n",
    "\n",
    "    # Iterate sensors\n",
    "    for j in range(0, len(y_data)):\n",
    "        ax.plot(x_data[j], y_data[j], color=colors[j % len(colors)])\n",
    "\n",
    "    # Force 24h graph time period\n",
    "    ax.set_xlim(start, end)\n",
    "\n",
    "    ax.set_title(\n",
    "        # 'Axis [{0},{1}]'.format(row, col),\n",
    "        start.date().strftime('%d %b'),\n",
    "        loc='left', x=0.05, y=0.80)\n",
    "\n",
    "    if grid:\n",
    "        ax.grid(alpha=0.25)\n",
    "\n",
    "    # Set spines for this grid box (the outside lines)\n",
    "    for sp in spines.keys():\n",
    "        ax.spines[sp].set_visible(spines[sp])\n",
    "        ax.spines[sp].set_alpha(spline_alpha)\n",
    "\n",
    "    i += 1\n",
    "    \n",
    "# Set text/label alpha\n",
    "[l.set_alpha(txt_alpha) for l in ax.xaxis.get_ticklabels()]\n",
    "[l.set_alpha(txt_alpha) for l in ax.yaxis.get_ticklabels()]\n",
    "\n",
    "# Leftover cell?\n",
    "while i < cells:\n",
    "    row, col = (i // cols, i % cols)\n",
    "    ax = axarr[row][col]\n",
    "    \n",
    "    # Set spines for this grid box (the outside lines)\n",
    "    for sp in spines.keys():\n",
    "        ax.spines[sp].set_visible(spines[sp])\n",
    "        ax.spines[sp].set_alpha(spline_alpha)\n",
    "        \n",
    "    ax.xaxis.get_ticklabels()[i].set_visible(False)\n",
    "    \n",
    "    i += 1\n",
    "    \n",
    "\n",
    "# Set spines for legend cell\n",
    "for sp in spines.keys():\n",
    "    axarr[0][0].spines[sp].set_visible(spines[sp])\n",
    "    axarr[0][0].spines[sp].set_alpha(spline_alpha)\n",
    "\n",
    "# Fine-tune figure\n",
    "# Set labels on left column plots y-axis\n",
    "for row in range(0, rows):\n",
    "    axarr[row][0].set_ylabel(y_label)\n",
    "    \n",
    "    # Fine-tune ticks\n",
    "    for col in range(0, cols):\n",
    "        axarr[row][col].tick_params(\n",
    "            axis='both',  # changes apply to both axis\n",
    "            which='both',  # both major and minor ticks are affected\n",
    "            bottom='off',  # ticks along the bottom edge are off\n",
    "            top='off',  # ticks along the top edge are off\n",
    "            left='off',\n",
    "            right='off',\n",
    "            labelbottom='on')  # labels along the bottom edge are on\n",
    "\n",
    "# Get the handles and labels for a legend\n",
    "handles = axarr[0][1 if cols > 1 else 0].lines\n",
    "labels = list(dfs.keys())\n",
    "\n",
    "# Plot a legend inside the upper leftmost figure\n",
    "leg = plt.figlegend(\n",
    "    handles=handles,\n",
    "    labels=labels,\n",
    "    loc='upper left',\n",
    "    bbox_to_anchor=(0.13, -0.1, 1, 1),\n",
    "    bbox_transform=plt.gcf().transFigure,\n",
    "    ncol=legend_cols,\n",
    "    labelspacing=0.5,\n",
    "    columnspacing=0.25,\n",
    "    markerscale=2,\n",
    "    frameon=False)\n",
    "\n",
    "plt.setp(leg.get_lines(), linewidth=1.5)  # the legend linewidth\n",
    "\n",
    "plt.show()\n",
    "plt.close()"
   ]
  },
  {
   "cell_type": "code",
   "execution_count": 56,
   "metadata": {},
   "outputs": [
    {
     "data": {
      "image/png": "[encoded data removed]",
      "text/plain": [
       "<matplotlib.figure.Figure at 0x10eb2b748>"
      ]
     },
     "metadata": {},
     "output_type": "display_data"
    }
   ],
   "source": [
    "plt.show()"
   ]
  },
  {
   "cell_type": "code",
   "execution_count": null,
   "metadata": {
    "collapsed": true
   },
   "outputs": [],
   "source": []
  }
 ],
 "metadata": {
  "kernelspec": {
   "display_name": "Python 3",
   "language": "python",
   "name": "python3"
  },
  "language_info": {
   "codemirror_mode": {
    "name": "ipython",
    "version": 3
   },
   "file_extension": ".py",
   "mimetype": "text/x-python",
   "name": "python",
   "nbconvert_exporter": "python",
   "pygments_lexer": "ipython3",
   "version": "3.6.0"
  }
 },
 "nbformat": 4,
 "nbformat_minor": 2
}
