{
 "cells": [
  {
   "cell_type": "code",
   "execution_count": 2,
   "metadata": {
    "collapsed": true
   },
   "outputs": [],
   "source": [
    "import logging\n",
    "import time\n",
    "import pandas as pd\n",
    "import numpy as np\n",
    "import datahandling as dh\n",
    "from report import sensor_stats"
   ]
  },
  {
   "cell_type": "code",
   "execution_count": 3,
   "metadata": {
    "collapsed": true
   },
   "outputs": [],
   "source": [
    "logging.basicConfig(level=logging.INFO)\n",
    "log = logging.getLogger(__name__)"
   ]
  },
  {
   "cell_type": "code",
   "execution_count": 4,
   "metadata": {
    "collapsed": true
   },
   "outputs": [],
   "source": [
    "input_datafiles = ['/Users/sam/Downloads/BuildAX/Floor3.csv']"
   ]
  },
  {
   "cell_type": "code",
   "execution_count": 5,
   "metadata": {},
   "outputs": [
    {
     "name": "stderr",
     "output_type": "stream",
     "text": [
      "INFO:datahandling:Reading data from /Users/sam/Downloads/BuildAX/Floor3.csv\n",
      "INFO:datahandling:Detected MIME: text/csv\n",
      "INFO:__main__:Running final sort on merge...\n",
      "INFO:__main__:+ Data read in 2.16s\n"
     ]
    }
   ],
   "source": [
    "pd.set_option('chained_assignment', None)  # Hush up, SettingWithCopyWarning\n",
    "\n",
    "start_time = time.time()\n",
    "# Use a generator to concatenate datafiles into a list \n",
    "# Single threaded: 60.73 seconds \n",
    "df = pd.concat( (dh.readfile(infile) for infile in input_datafiles) )\n",
    "\n",
    "# Multithreaded:  19.43 seconds. Winner!\n",
    "#p = multiprocessing.Pool()\n",
    "#df = pd.concat(p.map(dh.readfile, input_datafiles))\n",
    "\n",
    "log.info(\"Running final sort on merge...\")\n",
    "df.sort_index(inplace=True) # Sort again on merge\n",
    "\n",
    "# Lots of subprocesses hanging around: clean 'em up:\n",
    "#p.close()\n",
    "#p.join()\n",
    "\n",
    "log.info(\"+ Data read in {0:.2f}s\".format(time.time() - start_time))\n",
    "\n",
    "# Extract sensor IDs / names and split into dict by sensor ID\n",
    "t_start, t_end = (df.index.min(), df.index.max())\n",
    "# names = dh.unique_sensors(df)\n",
    "dfs = dh.split_by_id(df)\n",
    "\n",
    "assert(len(dfs['422EA95A']) == 59847)"
   ]
  },
  {
   "cell_type": "code",
   "execution_count": 6,
   "metadata": {},
   "outputs": [
    {
     "data": {
      "text/plain": [
       "147165"
      ]
     },
     "execution_count": 6,
     "metadata": {},
     "output_type": "execute_result"
    }
   ],
   "source": [
    "check_length = len(dfs[list(dfs.keys())[0]])\n",
    "check_length"
   ]
  },
  {
   "cell_type": "code",
   "execution_count": 7,
   "metadata": {
    "collapsed": true
   },
   "outputs": [],
   "source": [
    "# Apply fixes to the data and diff the PIR movement\n",
    "#dfs = dh.clean_data(dfs)\n",
    "\n",
    "# Limit range\n",
    "for i in dfs:\n",
    "    dfs[i].loc[:, 'Temp'] = dfs[i].loc[:, 'Temp']\\\n",
    "        .apply(lambda d: d if (d > -500) and (d < 1000) else np.NaN)\n",
    "\n",
    "    dfs[i].loc[:, 'Humidity'] = dfs[i].loc[:, 'Humidity']\\\n",
    "        .apply(lambda d: d if (d > 0.0) and (d < 101.0) else np.NaN)\n",
    "\n",
    "\n",
    "dfs = dh.fix_light(dfs)\n",
    "\n",
    "dfs = dh.fix_humidity(dfs)\n",
    "\n",
    "dfs = dh.fix_temp(dfs)\n",
    "\n",
    "assert(len(dfs[list(dfs.keys())[0]]) == check_length)"
   ]
  },
  {
   "cell_type": "code",
   "execution_count": 8,
   "metadata": {
    "collapsed": true
   },
   "outputs": [],
   "source": [
    "dfs_bak = dfs"
   ]
  },
  {
   "cell_type": "code",
   "execution_count": 71,
   "metadata": {
    "collapsed": true
   },
   "outputs": [],
   "source": [
    "dfs = dfs_bak.copy()"
   ]
  },
  {
   "cell_type": "code",
   "execution_count": 72,
   "metadata": {},
   "outputs": [],
   "source": [
    "#dfs = dh.diff_pir(dfs)\n",
    "\n",
    "ಠ_ಠ = 1e9  # scale factor to use\n",
    "σ = 5      # detect trigger above 5σ standard deviations\n",
    "\n",
    "for i in dfs:\n",
    "    d = dfs[i].loc[:, ['PIREnergy']]\n",
    "\n",
    "    # Time deltas\n",
    "    df_time = pd.DataFrame(d.index, index=d.index) \\\n",
    "        .diff().fillna(0)                          \\\n",
    "        .div(np.timedelta64(1, 's'))               \\\n",
    "        .astype('int64')\n",
    "\n",
    "    # Differentiate & fix wrapping at 2^16,\n",
    "    # then normalize to 0 and apply scale factor\n",
    "    df_diff = d['PIREnergy'].diff()               \\\n",
    "        .apply(lambda x: x if x > 0 else x+65535) \\\n",
    "        .astype('float')                          \\\n",
    "        .div(df_time['DateTime'].astype('float'), axis='index') \\\n",
    "        .diff() \\\n",
    "        * ಠ_ಠ\n",
    "\n",
    "    # Calculate std. deviation\n",
    "    df_std = df_diff.rolling(window=250, center=False).std() * σ\n",
    "\n",
    "    # Event triggers\n",
    "    df_event = (df_diff > df_std).to_frame(name='Event')\n",
    "\n",
    "    # Store views into original DataFrame\n",
    "    dfs[i].loc[:, 'Event'] = df_event[df_event['Event'] == True]\n",
    "    dfs[i].loc[:, 'PIRDiff'] = df_diff\n",
    "    # dfs[i].loc[:,'PIRStd'] = df_std\n",
    "\n",
    "assert(len(dfs[list(dfs.keys())[0]]) == check_length)"
   ]
  },
  {
   "cell_type": "code",
   "execution_count": 73,
   "metadata": {},
   "outputs": [
    {
     "data": {
      "text/plain": [
       "147165"
      ]
     },
     "execution_count": 73,
     "metadata": {},
     "output_type": "execute_result"
    }
   ],
   "source": [
    "len(dfs[list(dfs.keys())[0]])"
   ]
  },
  {
   "cell_type": "code",
   "execution_count": 74,
   "metadata": {},
   "outputs": [
    {
     "name": "stdout",
     "output_type": "stream",
     "text": [
      "DateTime\n",
      "2016-02-02 17:58:31             NaN\n",
      "2016-02-04 07:35:28             NaN\n",
      "2016-02-08 13:55:25   -1.225261e+08\n",
      "2016-02-08 14:00:16    1.387769e+10\n",
      "2016-02-09 07:33:33   -1.399888e+10\n",
      "2016-02-09 08:31:46    9.651322e+09\n",
      "2016-02-09 09:15:27    3.928234e+09\n",
      "2016-02-09 13:22:58   -1.177617e+10\n",
      "2016-02-10 15:28:20   -1.275398e+09\n",
      "2016-03-23 17:52:49   -5.419100e+08\n",
      "Name: PIRDiff, dtype: float64\n",
      "932\n"
     ]
    }
   ],
   "source": [
    "print(dfs[i].PIRDiff[:10])\n",
    "print(len(dfs[i]))"
   ]
  },
  {
   "cell_type": "markdown",
   "metadata": {},
   "source": [
    "PIR Diff result on Pandas 0.19.0 (with error)\n",
    "```\n",
    "DateTime\n",
    "2016-02-02 17:58:31             NaN\n",
    "2016-02-04 07:35:28             NaN\n",
    "2016-02-08 13:55:25   -1.225261e+08\n",
    "2016-02-09 07:33:33   -1.399888e+10\n",
    "2016-02-09 13:22:58   -1.177617e+10\n",
    "2016-02-10 15:28:20   -1.275398e+09\n",
    "2016-03-23 17:52:49   -5.419100e+08\n",
    "2016-03-23 19:04:56   -1.390800e+09\n",
    "2016-03-23 19:35:09   -8.563218e+08\n",
    "2016-03-23 19:36:07   -3.448276e+08\n",
    "Name: PIRDiff, dtype: float64\n",
    "\n",
    "```\n",
    "Expected result (`0.18.1`):\n",
    "```\n",
    "DateTime\n",
    "2016-02-02 17:58:31          NaN\n",
    "2016-02-04 07:35:28          NaN\n",
    "2016-02-08 13:55:25    -0.122526\n",
    "2016-02-08 14:00:16    13.877688\n",
    "2016-02-09 07:33:33   -13.998882\n",
    "2016-02-09 08:31:46     9.651322\n",
    "2016-02-09 09:15:27     3.928234\n",
    "2016-02-09 13:22:58   -11.776167\n",
    "2016-02-10 15:28:20    -1.275398\n",
    "2016-03-23 17:52:49    -0.541910\n",
    "Name: PIRDiff, dtype: float64\n",
    "```"
   ]
  },
  {
   "cell_type": "code",
   "execution_count": 75,
   "metadata": {},
   "outputs": [],
   "source": [
    "# Scrub erroneous values:\n",
    "pir_threshold = 1500 # arbitrary but big... \n"
   ]
  },
  {
   "cell_type": "code",
   "execution_count": 76,
   "metadata": {},
   "outputs": [
    {
     "data": {
      "text/html": [
       "<div>\n",
       "<table border=\"1\" class=\"dataframe\">\n",
       "  <thead>\n",
       "    <tr style=\"text-align: right;\">\n",
       "      <th></th>\n",
       "      <th>PIRDiff</th>\n",
       "    </tr>\n",
       "    <tr>\n",
       "      <th>DateTime</th>\n",
       "      <th></th>\n",
       "    </tr>\n",
       "  </thead>\n",
       "  <tbody>\n",
       "    <tr>\n",
       "      <th>2016-02-08 13:55:25</th>\n",
       "      <td>0</td>\n",
       "    </tr>\n",
       "    <tr>\n",
       "      <th>2016-02-08 14:00:16</th>\n",
       "      <td>0</td>\n",
       "    </tr>\n",
       "    <tr>\n",
       "      <th>2016-02-09 07:33:33</th>\n",
       "      <td>0</td>\n",
       "    </tr>\n",
       "    <tr>\n",
       "      <th>2016-02-09 08:31:46</th>\n",
       "      <td>0</td>\n",
       "    </tr>\n",
       "    <tr>\n",
       "      <th>2016-02-09 09:15:27</th>\n",
       "      <td>0</td>\n",
       "    </tr>\n",
       "    <tr>\n",
       "      <th>2016-02-09 13:22:58</th>\n",
       "      <td>0</td>\n",
       "    </tr>\n",
       "    <tr>\n",
       "      <th>2016-02-10 15:28:20</th>\n",
       "      <td>0</td>\n",
       "    </tr>\n",
       "    <tr>\n",
       "      <th>2016-03-23 17:52:49</th>\n",
       "      <td>0</td>\n",
       "    </tr>\n",
       "    <tr>\n",
       "      <th>2016-03-23 17:53:18</th>\n",
       "      <td>0</td>\n",
       "    </tr>\n",
       "    <tr>\n",
       "      <th>2016-03-23 17:55:15</th>\n",
       "      <td>0</td>\n",
       "    </tr>\n",
       "  </tbody>\n",
       "</table>\n",
       "</div>"
      ],
      "text/plain": [
       "                     PIRDiff\n",
       "DateTime                    \n",
       "2016-02-08 13:55:25        0\n",
       "2016-02-08 14:00:16        0\n",
       "2016-02-09 07:33:33        0\n",
       "2016-02-09 08:31:46        0\n",
       "2016-02-09 09:15:27        0\n",
       "2016-02-09 13:22:58        0\n",
       "2016-02-10 15:28:20        0\n",
       "2016-03-23 17:52:49        0\n",
       "2016-03-23 17:53:18        0\n",
       "2016-03-23 17:55:15        0"
      ]
     },
     "execution_count": 76,
     "metadata": {},
     "output_type": "execute_result"
    }
   ],
   "source": [
    "out_of_threshold = dfs[i][ (dfs[i].PIRDiff > pir_threshold) | (dfs[i].PIRDiff < -pir_threshold) ]\n",
    "zeroed_values = pd.DataFrame(0, index=out_of_threshold.index, columns=['PIRDiff'])\n",
    "dfs[i].update(zeroed_values)\n",
    "zeroed_values[:10]"
   ]
  },
  {
   "cell_type": "code",
   "execution_count": 77,
   "metadata": {},
   "outputs": [],
   "source": [
    "for i in dfs:\n",
    "    out_of_threshold = dfs[i][ (dfs[i].PIRDiff > pir_threshold) | (dfs[i].PIRDiff < -pir_threshold) ]\n",
    "    zeroed_values = pd.DataFrame(0, index=out_of_threshold.index, columns=['PIRDiff'])\n",
    "    dfs[i].update(zeroed_values)\n",
    "    "
   ]
  },
  {
   "cell_type": "code",
   "execution_count": 78,
   "metadata": {},
   "outputs": [
    {
     "data": {
      "text/html": [
       "<div>\n",
       "<table border=\"1\" class=\"dataframe\">\n",
       "  <thead>\n",
       "    <tr style=\"text-align: right;\">\n",
       "      <th></th>\n",
       "      <th>Name</th>\n",
       "      <th>RSSI</th>\n",
       "      <th>Type</th>\n",
       "      <th>SequenceNo</th>\n",
       "      <th>TransmitPower</th>\n",
       "      <th>Battery</th>\n",
       "      <th>Humidity</th>\n",
       "      <th>Temp</th>\n",
       "      <th>Light</th>\n",
       "      <th>PIRCount</th>\n",
       "      <th>PIREnergy</th>\n",
       "      <th>Switch</th>\n",
       "      <th>Event</th>\n",
       "      <th>PIRDiff</th>\n",
       "    </tr>\n",
       "    <tr>\n",
       "      <th>DateTime</th>\n",
       "      <th></th>\n",
       "      <th></th>\n",
       "      <th></th>\n",
       "      <th></th>\n",
       "      <th></th>\n",
       "      <th></th>\n",
       "      <th></th>\n",
       "      <th></th>\n",
       "      <th></th>\n",
       "      <th></th>\n",
       "      <th></th>\n",
       "      <th></th>\n",
       "      <th></th>\n",
       "      <th></th>\n",
       "    </tr>\n",
       "  </thead>\n",
       "  <tbody>\n",
       "    <tr>\n",
       "      <th>2015-05-15 14:51:56</th>\n",
       "      <td>42CAE0CE</td>\n",
       "      <td>-34</td>\n",
       "      <td>2</td>\n",
       "      <td>40</td>\n",
       "      <td>20</td>\n",
       "      <td>3228</td>\n",
       "      <td>30.51</td>\n",
       "      <td>22.6</td>\n",
       "      <td>4</td>\n",
       "      <td>35</td>\n",
       "      <td>31744</td>\n",
       "      <td>1</td>\n",
       "      <td>NaN</td>\n",
       "      <td>NaN</td>\n",
       "    </tr>\n",
       "    <tr>\n",
       "      <th>2015-05-15 14:52:51</th>\n",
       "      <td>42CAE0CE</td>\n",
       "      <td>-29</td>\n",
       "      <td>2</td>\n",
       "      <td>41</td>\n",
       "      <td>20</td>\n",
       "      <td>3228</td>\n",
       "      <td>30.51</td>\n",
       "      <td>22.6</td>\n",
       "      <td>4</td>\n",
       "      <td>36</td>\n",
       "      <td>32720</td>\n",
       "      <td>1</td>\n",
       "      <td>NaN</td>\n",
       "      <td>NaN</td>\n",
       "    </tr>\n",
       "    <tr>\n",
       "      <th>2015-05-15 14:53:25</th>\n",
       "      <td>42CAE0CE</td>\n",
       "      <td>-28</td>\n",
       "      <td>1</td>\n",
       "      <td>42</td>\n",
       "      <td>20</td>\n",
       "      <td>3232</td>\n",
       "      <td>29.47</td>\n",
       "      <td>22.7</td>\n",
       "      <td>14</td>\n",
       "      <td>36</td>\n",
       "      <td>33474</td>\n",
       "      <td>1</td>\n",
       "      <td>NaN</td>\n",
       "      <td>0.0</td>\n",
       "    </tr>\n",
       "    <tr>\n",
       "      <th>2015-05-15 14:55:08</th>\n",
       "      <td>42CAE0CE</td>\n",
       "      <td>-30</td>\n",
       "      <td>2</td>\n",
       "      <td>43</td>\n",
       "      <td>20</td>\n",
       "      <td>3232</td>\n",
       "      <td>29.47</td>\n",
       "      <td>22.7</td>\n",
       "      <td>14</td>\n",
       "      <td>37</td>\n",
       "      <td>34442</td>\n",
       "      <td>1</td>\n",
       "      <td>NaN</td>\n",
       "      <td>0.0</td>\n",
       "    </tr>\n",
       "    <tr>\n",
       "      <th>2015-05-15 14:58:24</th>\n",
       "      <td>42CAE0CE</td>\n",
       "      <td>-29</td>\n",
       "      <td>1</td>\n",
       "      <td>44</td>\n",
       "      <td>20</td>\n",
       "      <td>3230</td>\n",
       "      <td>29.17</td>\n",
       "      <td>22.7</td>\n",
       "      <td>3</td>\n",
       "      <td>37</td>\n",
       "      <td>36552</td>\n",
       "      <td>1</td>\n",
       "      <td>NaN</td>\n",
       "      <td>0.0</td>\n",
       "    </tr>\n",
       "    <tr>\n",
       "      <th>2015-05-15 15:03:22</th>\n",
       "      <td>42CAE0CE</td>\n",
       "      <td>-34</td>\n",
       "      <td>1</td>\n",
       "      <td>45</td>\n",
       "      <td>20</td>\n",
       "      <td>3227</td>\n",
       "      <td>29.17</td>\n",
       "      <td>22.6</td>\n",
       "      <td>1</td>\n",
       "      <td>37</td>\n",
       "      <td>39398</td>\n",
       "      <td>1</td>\n",
       "      <td>NaN</td>\n",
       "      <td>0.0</td>\n",
       "    </tr>\n",
       "    <tr>\n",
       "      <th>2015-05-15 15:08:21</th>\n",
       "      <td>42CAE0CE</td>\n",
       "      <td>-41</td>\n",
       "      <td>1</td>\n",
       "      <td>46</td>\n",
       "      <td>20</td>\n",
       "      <td>3226</td>\n",
       "      <td>29.08</td>\n",
       "      <td>22.6</td>\n",
       "      <td>0</td>\n",
       "      <td>37</td>\n",
       "      <td>42143</td>\n",
       "      <td>1</td>\n",
       "      <td>NaN</td>\n",
       "      <td>0.0</td>\n",
       "    </tr>\n",
       "    <tr>\n",
       "      <th>2015-05-15 15:13:20</th>\n",
       "      <td>42CAE0CE</td>\n",
       "      <td>-39</td>\n",
       "      <td>1</td>\n",
       "      <td>47</td>\n",
       "      <td>20</td>\n",
       "      <td>3226</td>\n",
       "      <td>29.08</td>\n",
       "      <td>22.5</td>\n",
       "      <td>0</td>\n",
       "      <td>37</td>\n",
       "      <td>44972</td>\n",
       "      <td>1</td>\n",
       "      <td>NaN</td>\n",
       "      <td>0.0</td>\n",
       "    </tr>\n",
       "    <tr>\n",
       "      <th>2015-05-15 15:13:27</th>\n",
       "      <td>42CAE0CE</td>\n",
       "      <td>-34</td>\n",
       "      <td>2</td>\n",
       "      <td>48</td>\n",
       "      <td>20</td>\n",
       "      <td>3226</td>\n",
       "      <td>29.08</td>\n",
       "      <td>22.5</td>\n",
       "      <td>0</td>\n",
       "      <td>38</td>\n",
       "      <td>45078</td>\n",
       "      <td>1</td>\n",
       "      <td>NaN</td>\n",
       "      <td>0.0</td>\n",
       "    </tr>\n",
       "    <tr>\n",
       "      <th>2015-05-15 15:18:19</th>\n",
       "      <td>42CAE0CE</td>\n",
       "      <td>-38</td>\n",
       "      <td>1</td>\n",
       "      <td>49</td>\n",
       "      <td>20</td>\n",
       "      <td>3225</td>\n",
       "      <td>29.08</td>\n",
       "      <td>22.5</td>\n",
       "      <td>1</td>\n",
       "      <td>38</td>\n",
       "      <td>48199</td>\n",
       "      <td>1</td>\n",
       "      <td>NaN</td>\n",
       "      <td>0.0</td>\n",
       "    </tr>\n",
       "  </tbody>\n",
       "</table>\n",
       "</div>"
      ],
      "text/plain": [
       "                         Name  RSSI  Type  SequenceNo  TransmitPower  Battery  \\\n",
       "DateTime                                                                        \n",
       "2015-05-15 14:51:56  42CAE0CE   -34     2          40             20     3228   \n",
       "2015-05-15 14:52:51  42CAE0CE   -29     2          41             20     3228   \n",
       "2015-05-15 14:53:25  42CAE0CE   -28     1          42             20     3232   \n",
       "2015-05-15 14:55:08  42CAE0CE   -30     2          43             20     3232   \n",
       "2015-05-15 14:58:24  42CAE0CE   -29     1          44             20     3230   \n",
       "2015-05-15 15:03:22  42CAE0CE   -34     1          45             20     3227   \n",
       "2015-05-15 15:08:21  42CAE0CE   -41     1          46             20     3226   \n",
       "2015-05-15 15:13:20  42CAE0CE   -39     1          47             20     3226   \n",
       "2015-05-15 15:13:27  42CAE0CE   -34     2          48             20     3226   \n",
       "2015-05-15 15:18:19  42CAE0CE   -38     1          49             20     3225   \n",
       "\n",
       "                     Humidity  Temp  Light  PIRCount  PIREnergy  Switch Event  \\\n",
       "DateTime                                                                        \n",
       "2015-05-15 14:51:56     30.51  22.6      4        35      31744       1   NaN   \n",
       "2015-05-15 14:52:51     30.51  22.6      4        36      32720       1   NaN   \n",
       "2015-05-15 14:53:25     29.47  22.7     14        36      33474       1   NaN   \n",
       "2015-05-15 14:55:08     29.47  22.7     14        37      34442       1   NaN   \n",
       "2015-05-15 14:58:24     29.17  22.7      3        37      36552       1   NaN   \n",
       "2015-05-15 15:03:22     29.17  22.6      1        37      39398       1   NaN   \n",
       "2015-05-15 15:08:21     29.08  22.6      0        37      42143       1   NaN   \n",
       "2015-05-15 15:13:20     29.08  22.5      0        37      44972       1   NaN   \n",
       "2015-05-15 15:13:27     29.08  22.5      0        38      45078       1   NaN   \n",
       "2015-05-15 15:18:19     29.08  22.5      1        38      48199       1   NaN   \n",
       "\n",
       "                     PIRDiff  \n",
       "DateTime                      \n",
       "2015-05-15 14:51:56      NaN  \n",
       "2015-05-15 14:52:51      NaN  \n",
       "2015-05-15 14:53:25      0.0  \n",
       "2015-05-15 14:55:08      0.0  \n",
       "2015-05-15 14:58:24      0.0  \n",
       "2015-05-15 15:03:22      0.0  \n",
       "2015-05-15 15:08:21      0.0  \n",
       "2015-05-15 15:13:20      0.0  \n",
       "2015-05-15 15:13:27      0.0  \n",
       "2015-05-15 15:18:19      0.0  "
      ]
     },
     "execution_count": 78,
     "metadata": {},
     "output_type": "execute_result"
    }
   ],
   "source": [
    "dfs[list(dfs.keys())[0]][:10]"
   ]
  },
  {
   "cell_type": "code",
   "execution_count": 79,
   "metadata": {},
   "outputs": [
    {
     "name": "stderr",
     "output_type": "stream",
     "text": [
      "INFO:report: ID      | Packets \n",
      "INFO:report:=========|=========\n",
      "INFO:report:42CAE0CE | 147165\n",
      "INFO:report:42A91C18 | 158564\n",
      "INFO:report:42CA8185 | 57646\n",
      "INFO:report:4259DD00 | 38260\n",
      "INFO:report:42D8421B | 44686\n",
      "INFO:report:426D6758 | 50762\n",
      "INFO:report:426BBB67 | 107222\n",
      "INFO:report:429D6BDE | 4720\n",
      "INFO:report:422EA95A | 59847\n",
      "INFO:report:42F519EF | 2177\n",
      "INFO:report:425AE41F | 932\n"
     ]
    }
   ],
   "source": [
    "dfs = sensor_stats(dfs, 10)"
   ]
  },
  {
   "cell_type": "code",
   "execution_count": 80,
   "metadata": {},
   "outputs": [
    {
     "data": {
      "text/plain": [
       "147165"
      ]
     },
     "execution_count": 80,
     "metadata": {},
     "output_type": "execute_result"
    }
   ],
   "source": [
    "len(dfs['42CAE0CE'])"
   ]
  },
  {
   "cell_type": "code",
   "execution_count": null,
   "metadata": {
    "collapsed": true
   },
   "outputs": [],
   "source": []
  },
  {
   "cell_type": "markdown",
   "metadata": {},
   "source": [
    "```\n",
    "# Drop indices of dfs where threshold value not in tolerance\n",
    "dfs = {\n",
    "    i: dfs[i].drop(\n",
    "        dfs[i][dfs[i].PIRDiff > pir_threshold].index\n",
    "    ) \n",
    "    for i in dfs\n",
    "}\n",
    "\n",
    "assert(len(dfs[list(dfs.keys())[0]]) == check_length)\n",
    "\n",
    "dfs = {\n",
    "    i: dfs[i].drop(dfs[i][dfs[i].PIRDiff < -pir_threshold].index) \n",
    "    for i in dfs\n",
    "}\n",
    "\n",
    "assert(len(dfs[list(dfs.keys())[0]]) == check_length)\n",
    "```\n"
   ]
  }
 ],
 "metadata": {
  "kernelspec": {
   "display_name": "Python 3",
   "language": "python",
   "name": "python3"
  },
  "language_info": {
   "codemirror_mode": {
    "name": "ipython",
    "version": 3
   },
   "file_extension": ".py",
   "mimetype": "text/x-python",
   "name": "python",
   "nbconvert_exporter": "python",
   "pygments_lexer": "ipython3",
   "version": "3.6.0"
  }
 },
 "nbformat": 4,
 "nbformat_minor": 2
}
