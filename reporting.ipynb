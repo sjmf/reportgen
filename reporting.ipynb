{
 "cells": [
  {
   "cell_type": "markdown",
   "metadata": {},
   "source": [
    "# Reporting Checklist\n",
    "\n",
    "## Data Load stage\n",
    "* Load in data files ✅\n",
    "* Get range of time series\n",
    "\n",
    "## Outputs\n",
    "* Template\n",
    "    - Title page with report range and data types\n",
    "    - Date\n",
    "* Weekly aggregates\n",
    "    - Temperature between 9am-5pm, temperature overnight (11pm-6am?)\n",
    "    - Average humidity at these times as well\n",
    "    - % of time Light > 0\n",
    "* Daily graphs (try to fit one page per day) \n",
    "\n",
    "## Implementation\n",
    "* Python module for processing BAX data with functions for\n",
    "    - Reading in the data from a file (or set of files)\n",
    "    - Calculating stats and aggregates over the data\n",
    "    - Producing graphs for given time ranges\n"
   ]
  },
  {
   "cell_type": "code",
   "execution_count": 71,
   "metadata": {
    "collapsed": false
   },
   "outputs": [
    {
     "name": "stdout",
     "output_type": "stream",
     "text": [
      "The autoreload extension is already loaded. To reload it, use:\n",
      "  %reload_ext autoreload\n"
     ]
    }
   ],
   "source": [
    "%load_ext autoreload\n",
    "%autoreload 2"
   ]
  },
  {
   "cell_type": "code",
   "execution_count": 72,
   "metadata": {
    "collapsed": false
   },
   "outputs": [],
   "source": [
    "from datahandling import *"
   ]
  },
  {
   "cell_type": "code",
   "execution_count": 73,
   "metadata": {
    "collapsed": false
   },
   "outputs": [],
   "source": [
    "df = readfile(\"./testdata/LOG00001.TXT\")"
   ]
  },
  {
   "cell_type": "code",
   "execution_count": 87,
   "metadata": {
    "collapsed": false
   },
   "outputs": [
    {
     "name": "stdout",
     "output_type": "stream",
     "text": [
      "Index(['Name', 'RSSI', 'Type', 'SequenceNo', 'TransmitPower', 'Battery',\n",
      "       'Humidity', 'Temp', 'Light', 'PIRCount', 'PIREnergy', 'Switch'],\n",
      "      dtype='object')\n",
      "['80418A51' '80524F69' '80B207A1']\n",
      "                         Name  RSSI  Type  SequenceNo  TransmitPower  Battery  \\\n",
      "DateTime                                                                        \n",
      "2016-03-27 23:59:53  80418A51   -72     1         131             20     2671   \n",
      "\n",
      "                     Humidity  Temp  Light  PIRCount  PIREnergy  Switch  \n",
      "DateTime                                                                 \n",
      "2016-03-27 23:59:53     39.53   126      0         0         53       1  \n"
     ]
    }
   ],
   "source": [
    "print(df.dtypes.index)\n",
    "print(unique_sensors(df))\n",
    "print(df[:1])"
   ]
  },
  {
   "cell_type": "code",
   "execution_count": 95,
   "metadata": {
    "collapsed": false
   },
   "outputs": [
    {
     "name": "stdout",
     "output_type": "stream",
     "text": [
      "2016-03-27 23:59:53 to 2016-03-28 00:01:21\n"
     ]
    }
   ],
   "source": [
    "t_start, t_end = (df.index.min(), df.index.max())\n",
    "\n",
    "print(str(t_start) +' to '+ str(t_end))"
   ]
  },
  {
   "cell_type": "code",
   "execution_count": 85,
   "metadata": {
    "collapsed": false
   },
   "outputs": [
    {
     "name": "stdout",
     "output_type": "stream",
     "text": [
      "                         Name  RSSI  Type  SequenceNo  TransmitPower  Battery  \\\n",
      "DateTime                                                                        \n",
      "2016-03-27 23:59:53  80418A51   -72     1         131             20     2671   \n",
      "2016-03-28 00:00:23  80418A51   -72     1         132             20     2671   \n",
      "2016-03-28 00:00:52  80418A51   -72     1         133             20     2671   \n",
      "2016-03-28 00:01:21  80418A51   -72     1         134             20     2671   \n",
      "\n",
      "                     Humidity  Temp  Light  PIRCount  PIREnergy  Switch  \n",
      "DateTime                                                                 \n",
      "2016-03-27 23:59:53     39.53   126      0         0         53       1  \n",
      "2016-03-28 00:00:23     39.45   126      0         0        442       1  \n",
      "2016-03-28 00:00:52     39.41   125      0         0        848       1  \n",
      "2016-03-28 00:01:21     39.45   125      0         0       1254       1  \n",
      "                         Name  RSSI  Type  SequenceNo  TransmitPower  Battery  \\\n",
      "DateTime                                                                        \n",
      "2016-03-28 00:00:10  80524F69   -52     1          96             20     3004   \n",
      "2016-03-28 00:00:42  80524F69   -52     1          97             20     3004   \n",
      "2016-03-28 00:01:14  80524F69   -52     1          98             20     3004   \n",
      "\n",
      "                     Humidity  Temp  Light  PIRCount  PIREnergy  Switch  \n",
      "DateTime                                                                 \n",
      "2016-03-28 00:00:10     27.05   214      0         0      18218       1  \n",
      "2016-03-28 00:00:42     27.05   214      0         0      18520       1  \n",
      "2016-03-28 00:01:14     26.90   214      0         0      18825       1  \n",
      "                         Name  RSSI  Type  SequenceNo  TransmitPower  Battery  \\\n",
      "DateTime                                                                        \n",
      "2016-03-28 00:00:14  80B207A1   -63     1         118             20     2700   \n",
      "2016-03-28 00:00:43  80B207A1   -63     1         119             20     2700   \n",
      "2016-03-28 00:01:12  80B207A1   -63     1         120             20     2700   \n",
      "\n",
      "                     Humidity  Temp  Light  PIRCount  PIREnergy  Switch  \n",
      "DateTime                                                                 \n",
      "2016-03-28 00:00:14     36.95   135      0         0      32924       1  \n",
      "2016-03-28 00:00:43     36.95   135      0         0      33919       1  \n",
      "2016-03-28 00:01:12     36.95   135      0         0      34946       1  \n"
     ]
    }
   ],
   "source": [
    "for s in unique_sensors(df):\n",
    "    print(df[df.Name == s])"
   ]
  },
  {
   "cell_type": "code",
   "execution_count": null,
   "metadata": {
    "collapsed": true
   },
   "outputs": [],
   "source": []
  }
 ],
 "metadata": {
  "kernelspec": {
   "display_name": "Python 3",
   "language": "python",
   "name": "python3"
  },
  "language_info": {
   "codemirror_mode": {
    "name": "ipython",
    "version": 3
   },
   "file_extension": ".py",
   "mimetype": "text/x-python",
   "name": "python",
   "nbconvert_exporter": "python",
   "pygments_lexer": "ipython3",
   "version": "3.5.0"
  }
 },
 "nbformat": 4,
 "nbformat_minor": 0
}
